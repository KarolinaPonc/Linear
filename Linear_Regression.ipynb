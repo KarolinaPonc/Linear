{
  "nbformat": 4,
  "nbformat_minor": 0,
  "metadata": {
    "kernelspec": {
      "display_name": "Python 3",
      "language": "python",
      "name": "python3"
    },
    "language_info": {
      "codemirror_mode": {
        "name": "ipython",
        "version": 3
      },
      "file_extension": ".py",
      "mimetype": "text/x-python",
      "name": "python",
      "nbconvert_exporter": "python",
      "pygments_lexer": "ipython3",
      "version": "3.6.7"
    },
    "colab": {
      "name": "Linear_Regression.ipynb",
      "provenance": []
    }
  },
  "cells": [
    {
      "cell_type": "markdown",
      "metadata": {
        "id": "SGviSD0j28Dq",
        "colab_type": "text"
      },
      "source": [
        "<center>\n",
        "<h1>Linear regression introduction</h1>\n",
        "<h2>\n",
        "Deep learning classes<br>\n",
        "</h2>\n",
        "<h3>\n",
        "This is a graded assignment<br>\n",
        "</h3>\n",
        "</center>"
      ]
    },
    {
      "cell_type": "markdown",
      "metadata": {
        "id": "pnZT1_-F28Dr",
        "colab_type": "text"
      },
      "source": [
        "### Basic information\n",
        "<ul>\n",
        "    <li>This task is build of:\n",
        "    <ul>\n",
        "        <li>Descriptions (in the Markdown cells)\n",
        "        <li>Already prepared fragments of code\n",
        "        <li>The placeholders for your code\n",
        "    </ul>\n",
        "    <li>Your code should be entered in the `Code` cells. The places are marked by <b># ENTER YOUR CODE HERE</b> note.\n",
        "    <li>Usually you should enter only a few lines of code. But if you think you need it, you may use as many lines and add as many new code cells as you wish.\n",
        "    <li>You should solve the assignment in the defined order. It is often impossible to solve the next task, if you did not sove the previous one.\n",
        "    <li>This assignment is graded. \n",
        "    <li>During the grading you may expect some questions. <b>Sending the code to the teacher is not sufficient for passing.</b>\n",
        "</ul>"
      ]
    },
    {
      "cell_type": "markdown",
      "metadata": {
        "id": "8ZNFwNsU28Du",
        "colab_type": "text"
      },
      "source": [
        "Here we import all the necessary libraries, and set some initial parameters."
      ]
    },
    {
      "cell_type": "code",
      "metadata": {
        "id": "ZS9uqjFu28Dv",
        "colab_type": "code",
        "colab": {
          "base_uri": "https://localhost:8080/",
          "height": 196
        },
        "outputId": "54c4ff36-9cad-4013-e778-70fbd28a3ee4"
      },
      "source": [
        "# The line below downloads the helper from github repository. \n",
        "# Uncomment it osiem, if you are opening the notebook in Google Colab directly from the GitHub\n",
        "\n",
        "!wget https://raw.githubusercontent.com/PrzemekSekula/DeepLearningClasses1/master/LinearRegression/helper_linear_regression.py"
      ],
      "execution_count": 1,
      "outputs": [
        {
          "output_type": "stream",
          "text": [
            "--2020-06-17 08:09:08--  https://raw.githubusercontent.com/PrzemekSekula/DeepLearningClasses1/master/LinearRegression/helper_linear_regression.py\n",
            "Resolving raw.githubusercontent.com (raw.githubusercontent.com)... 151.101.0.133, 151.101.64.133, 151.101.128.133, ...\n",
            "Connecting to raw.githubusercontent.com (raw.githubusercontent.com)|151.101.0.133|:443... connected.\n",
            "HTTP request sent, awaiting response... 200 OK\n",
            "Length: 3936 (3.8K) [text/plain]\n",
            "Saving to: ‘helper_linear_regression.py’\n",
            "\n",
            "\r          helper_li   0%[                    ]       0  --.-KB/s               \rhelper_linear_regre 100%[===================>]   3.84K  --.-KB/s    in 0.001s  \n",
            "\n",
            "2020-06-17 08:09:09 (3.75 MB/s) - ‘helper_linear_regression.py’ saved [3936/3936]\n",
            "\n"
          ],
          "name": "stdout"
        }
      ]
    },
    {
      "cell_type": "code",
      "metadata": {
        "id": "nPgyY7HC28Dz",
        "colab_type": "code",
        "colab": {}
      },
      "source": [
        "import numpy as np\n",
        "import matplotlib.pyplot as plt\n",
        "import helper_linear_regression as hlp\n",
        "\n",
        "%matplotlib inline"
      ],
      "execution_count": 2,
      "outputs": []
    },
    {
      "cell_type": "markdown",
      "metadata": {
        "id": "UWalKusp28D3",
        "colab_type": "text"
      },
      "source": [
        "The cell below is used for generating the data."
      ]
    },
    {
      "cell_type": "code",
      "metadata": {
        "id": "Z4LDRKmi28D3",
        "colab_type": "code",
        "colab": {
          "base_uri": "https://localhost:8080/",
          "height": 295
        },
        "outputId": "75b574ff-b012-413f-f9f9-f451d16acae5"
      },
      "source": [
        "# The line below assures that the random function will return the same values every time\n",
        "np.random.seed(12)\n",
        "\n",
        "coefs = [50, 25, -1.25, 0.01]\n",
        "datalength = 80\n",
        "noise = 0.2\n",
        "\n",
        "x, y = hlp.getXY(coefs, datalength, noise)\n",
        "\n",
        "f = plt.figure()\n",
        "plt.scatter(x, y)\n",
        "plt.title('Your dataset')\n",
        "plt.xlabel('X (inputs)')\n",
        "plt.ylabel('Y (labels / targets)');\n",
        "plt.show()"
      ],
      "execution_count": 3,
      "outputs": [
        {
          "output_type": "display_data",
          "data": {
            "image/png": "[encoded data removed]",
            "text/plain": [
              "<Figure size 432x288 with 1 Axes>"
            ]
          },
          "metadata": {
            "tags": [],
            "needs_background": "light"
          }
        }
      ]
    },
    {
      "cell_type": "markdown",
      "metadata": {
        "id": "EsuWlG3P28D-",
        "colab_type": "text"
      },
      "source": [
        "### Task 1\n",
        "Let's assume that your function is linear ($y = \\Theta_0 + \\Theta_1*x$). Try to select the $\\Theta_0$ i  $\\Theta_1$ manually in order to create your model. Use the code below for visualizing results.\n",
        "\n",
        "*Note: This task is not about machine learning. You should just select the parameters manually, in order to get a good intuition. The parateres should be \"quite good\", but they do not have to be perfect.* "
      ]
    },
    {
      "cell_type": "code",
      "metadata": {
        "id": "abe9pakY28D_",
        "colab_type": "code",
        "colab": {
          "base_uri": "https://localhost:8080/",
          "height": 295
        },
        "outputId": "07fc9373-2865-4d80-bc12-306243655ae1"
      },
      "source": [
        "my_th0 = 400\n",
        "my_th1 = -20\n",
        "\n",
        "hlp.plot_fitting_lin(x, y, my_th0, my_th1);"
      ],
      "execution_count": 4,
      "outputs": [
        {
          "output_type": "display_data",
          "data": {
            "image/png": "[encoded data removed]",
            "text/plain": [
              "<Figure size 432x288 with 1 Axes>"
            ]
          },
          "metadata": {
            "tags": [],
            "needs_background": "light"
          }
        }
      ]
    },
    {
      "cell_type": "markdown",
      "metadata": {
        "id": "TKRcEXRj28ED",
        "colab_type": "text"
      },
      "source": [
        "### Task 2  - Hypothesis\n",
        "Prepare the function, which can compute the progosed values $h(x)$ according to the formula:\n",
        "\n",
        "<center>\n",
        "$h(x)  = \\Theta_0 + \\Theta_1 * x$\n",
        "</center>\n",
        "\n",
        "Function arguments:\n",
        "<li>x - input data (vector0\n",
        "<li>th0 - $\\Theta_0$\n",
        "<li>th1 - $\\Theta_1$\n",
        "<br \\>\n",
        "Function returns:\n",
        "<li>h - vector of values computed with the formula above."
      ]
    },
    {
      "cell_type": "code",
      "metadata": {
        "id": "6z8O33YP28ED",
        "colab_type": "code",
        "colab": {}
      },
      "source": [
        "def compute_h(x, th0, th1):\n",
        "    x = np.asarray(x) # It removes problems with older version of libraries\n",
        "    \n",
        "    # ENTER YOUR CODE HERE\n",
        "\n",
        "    h = th0 + th1 * x\n",
        "    \n",
        "    # END OF YOUR CODE\n",
        "    return h"
      ],
      "execution_count": 5,
      "outputs": []
    },
    {
      "cell_type": "markdown",
      "metadata": {
        "id": "Wss2ludi28EG",
        "colab_type": "text"
      },
      "source": [
        "#### Task 2 - test code\n",
        "You may use the code below, to test your output. The correct results are:<br>\n",
        "[200 185 170 155 140 125 110  95  80  65]"
      ]
    },
    {
      "cell_type": "code",
      "metadata": {
        "id": "z_Nx7cgK28EH",
        "colab_type": "code",
        "colab": {
          "base_uri": "https://localhost:8080/",
          "height": 50
        },
        "outputId": "5a603d7a-7493-461b-8708-3cb05a79d940"
      },
      "source": [
        "hlp.testcomputeh(compute_h)"
      ],
      "execution_count": 6,
      "outputs": [
        {
          "output_type": "stream",
          "text": [
            "Testing results:  [200 185 170 155 140 125 110  95  80  65]\n",
            "Your code seems to be OK!\n"
          ],
          "name": "stdout"
        }
      ]
    },
    {
      "cell_type": "markdown",
      "metadata": {
        "id": "SXR12djH28EK",
        "colab_type": "text"
      },
      "source": [
        "### Task 3 - Cost function\n",
        "Prepare the function, which computes the cost, according to the formula:\n",
        "<br /><br />\n",
        "<center>\n",
        "$J = \\frac{1}{2m}\\sum_{i=1}^{m}{(y_i - h(x_i))}^2$\n",
        "</center>\n",
        "\n",
        "Where:\n",
        "\n",
        "<li>$J$ - cost\n",
        "<li>$y$ - real $y$ values\n",
        "<li>$y_{pred}$ - predicted $y$ values\n",
        "<li>$m$ - length of the $y$ vector (number of observations)\n",
        "\n",
        "Arguments:\n",
        "\n",
        "<li>y - vector with real y values\n",
        "<li>h - vector with predicted y values ($h(x)$)\n",
        "\n",
        "Function returns:\n",
        "\n",
        "<li> c - cost computed with the given formula.\n",
        "    \n",
        "    \n",
        "*Note: You may compute the mean value of the vector by using: np.mean() function.\n",
        "Example:*\n",
        "<code>\n",
        "X = [1, 2, 3]\n",
        "print (np.mean(X))\n",
        "2\n",
        "</code>"
      ]
    },
    {
      "cell_type": "code",
      "metadata": {
        "id": "71ZTI-Hc28EL",
        "colab_type": "code",
        "colab": {}
      },
      "source": [
        "def cost(y, ypred):\n",
        "    y = np.asarray(y)\n",
        "    ypred = np.asarray(ypred)\n",
        "       \n",
        "    m = len(y)\n",
        "    c = 1/(2*m) * sum((y - ypred)**2)\n",
        "    \n",
        "    return c"
      ],
      "execution_count": 9,
      "outputs": []
    },
    {
      "cell_type": "markdown",
      "metadata": {
        "id": "3xf9Xmc028ER",
        "colab_type": "text"
      },
      "source": [
        "#### Task 4 - test code\n",
        "You may test your `cost` function with the code below. If everything is OK, the output will be:<br>\n",
        "**Your code seems to be OK!**"
      ]
    },
    {
      "cell_type": "code",
      "metadata": {
        "id": "VyYCqU8c28ER",
        "colab_type": "code",
        "colab": {
          "base_uri": "https://localhost:8080/",
          "height": 33
        },
        "outputId": "833df0c8-1d93-4d31-e4b6-d8e3114c6111"
      },
      "source": [
        "hlp.testcost(cost)"
      ],
      "execution_count": 10,
      "outputs": [
        {
          "output_type": "stream",
          "text": [
            "Your code seems to be OK!\n"
          ],
          "name": "stdout"
        }
      ]
    },
    {
      "cell_type": "markdown",
      "metadata": {
        "id": "FjtNVorc28EU",
        "colab_type": "text"
      },
      "source": [
        "### Task 4 - Computing cost\n",
        "Using the parameters $\\Theta_0$ i $\\Theta_1$ selected in the task 1 compute and display the hypothesis and the cost value.\n",
        "\n",
        "*Note 1: Your parameters are stored in `my_th0` and `my_th1` variables.*<br>\n",
        "*Note 1: You may use your `compute_h` function for computing hypothesis, and `cost` function for computing cost*<br>\n"
      ]
    },
    {
      "cell_type": "code",
      "metadata": {
        "id": "8gabz82T28EV",
        "colab_type": "code",
        "colab": {
          "base_uri": "https://localhost:8080/",
          "height": 33
        },
        "outputId": "6b43955c-3cea-4622-aae3-67dcd102cd4e"
      },
      "source": [
        "h = compute_h(x, my_th0, my_th1) # ENTER YOUR CODE HERE\n",
        "mycost = cost(y, h)  # ENTER YOUR CODE HERE\n",
        "print (mycost)"
      ],
      "execution_count": 11,
      "outputs": [
        {
          "output_type": "stream",
          "text": [
            "17702.428395833304\n"
          ],
          "name": "stdout"
        }
      ]
    },
    {
      "cell_type": "markdown",
      "metadata": {
        "id": "KpwaPOGt28EX",
        "colab_type": "text"
      },
      "source": [
        "### Task 5 - partial derivatives\n",
        "Prepare the function `compute_derivatives`, which returns the partial derivatives $\\frac{\\delta}{\\delta\\Theta_0}J(\\Theta_0, \\Theta_1)$ and $\\frac{\\delta}{\\delta\\Theta_0}J(\\Theta_0, \\Theta_1)$ where:\n",
        "<center>\n",
        "<br \\><br \\>\n",
        "$J(\\Theta_0, \\Theta_1) = \\frac{1}{2m}\\sum_{i=1}^{m}{(y_i - h_\\Theta(x_i))}^2= \\frac{1}{2m}\\sum_{i=1}^{m}{(y_i - (\\Theta_0 + \\Theta_1x_i))}$\n",
        "<br \\><br \\>\n",
        "$\\frac{\\delta}{\\delta\\Theta_0}J(\\Theta_0, \\Theta_1) = - \\frac{1}{m}\\sum_{i=1}^{m}{(y_i - h_\\Theta(x_i))}$\n",
        "<br \\><br \\>\n",
        "$\\frac{\\delta}{\\delta\\Theta_1}J(\\Theta_0, \\Theta_1) = - \\frac{1}{m}\\sum_{i=1}^{m}{(y_i - h_\\Theta(x_i))x_i}$\n",
        "<br \\><br \\>\n",
        "</center>\n",
        "\n",
        "Arguments:\n",
        "<li>x - input data vector\n",
        "<li>y - output data (labels) vector\n",
        "<li>th0 - $\\Theta_0$ parameter\n",
        "<li>th1 - $\\Theta_1$ parameter\n",
        "<br \\>\n",
        "\n",
        "Function returns:\n",
        "<li>dTh0 - partial derivative $\\frac{\\delta}{\\delta\\Theta_0}J(\\Theta_0, \\Theta_1)$\n",
        "<li>dTh1 - partial derivative $\\frac{\\delta}{\\delta\\Theta_1}J(\\Theta_0, \\Theta_1)$\n",
        "<br \\><br \\>"
      ]
    },
    {
      "cell_type": "code",
      "metadata": {
        "id": "AGEvpgzW28EY",
        "colab_type": "code",
        "colab": {}
      },
      "source": [
        "def compute_derivatives(x, y, th0, th1):\n",
        "    x = np.asarray(x) # It removes problems with older version of libraries\n",
        "    y = np.asarray(y) # It removes problems with older version of libraries\n",
        "    \n",
        "    # ENTER YOUR CODE HERE\n",
        "    m = len(y)\n",
        "    dTh0 = -1/m * sum(y - compute_h(x, th0, th1))\n",
        "    dTh1 = -1/m * sum((y - compute_h(x, th0, th1)) * x)\n",
        "    \n",
        "    #END OF YOUR CODE\n",
        "    return dTh0, dTh1"
      ],
      "execution_count": 13,
      "outputs": []
    },
    {
      "cell_type": "markdown",
      "metadata": {
        "id": "oy4FVDo528Ec",
        "colab_type": "text"
      },
      "source": [
        "#### Task 4 - test code\n",
        "You may test your `compute_derivative` function with the code below. If everything is OK, the output will be:<br>\n",
        "**dTh0 seems to be OK.**<br>\n",
        "**dTh1 seems to be OK.**<br>"
      ]
    },
    {
      "cell_type": "code",
      "metadata": {
        "id": "PAbaokE528Ed",
        "colab_type": "code",
        "colab": {
          "base_uri": "https://localhost:8080/",
          "height": 50
        },
        "outputId": "2c64c2b2-660a-45c2-d22a-b07bd3fab971"
      },
      "source": [
        "hlp.testcomputederivatives(compute_derivatives)"
      ],
      "execution_count": 14,
      "outputs": [
        {
          "output_type": "stream",
          "text": [
            "dTh0 seems to be OK.\n",
            "dTh1 seems to be OK.\n"
          ],
          "name": "stdout"
        }
      ]
    },
    {
      "cell_type": "markdown",
      "metadata": {
        "id": "FjxtGHSP28Eh",
        "colab_type": "text"
      },
      "source": [
        "### Task 6 - updating theta\n",
        "Prepare the `update_theta` function, which updates the values of $\\Theta$ parameters according to the formulas:\n",
        "<center>\n",
        "<br \\><br \\>\n",
        "$\\Theta_0 = \\Theta_0 - \\alpha * \\frac{\\delta}{\\delta\\Theta_0}J(\\Theta_0, \\Theta_1)$\n",
        "<br \\><br \\>\n",
        "$\\Theta_1 = \\Theta_1 - \\alpha * \\frac{\\delta}{\\delta\\Theta_1}J(\\Theta_0, \\Theta_1)$\n",
        "<br \\><br \\>\n",
        "<br \\><br \\>\n",
        "</center>\n",
        "\n",
        "Arguments:\n",
        "<li>th0 - $\\Theta_0$ parameter\n",
        "<li>th1 - $\\Theta_1$ parameter\n",
        "<li>del0 - Partial derivative $\\frac{\\delta}{\\delta\\Theta_0}J(\\Theta_0, \\Theta_1)$\n",
        "<li>del1 - Partial derivative $\\frac{\\delta}{\\delta\\Theta_1}J(\\Theta_0, \\Theta_1)$\n",
        "<li>learning_rate - the learning rate $\\alpha$ parameter\n",
        "<br \\><br \\>\n",
        "Function returns:\n",
        "<li>Updated value of $\\Theta_0$\n",
        "<li>Updated value of $\\Theta_1$\n"
      ]
    },
    {
      "cell_type": "code",
      "metadata": {
        "id": "4mpTKPxY28Ei",
        "colab_type": "code",
        "colab": {}
      },
      "source": [
        "def update_theta(th0, th1, del0, del1, learning_rate):\n",
        "\n",
        "    th0 = th0 - learning_rate * del0\n",
        "    th1 = th1 - learning_rate * del1\n",
        "    return th0, th1"
      ],
      "execution_count": 15,
      "outputs": []
    },
    {
      "cell_type": "markdown",
      "metadata": {
        "id": "2mBXKw7E28El",
        "colab_type": "text"
      },
      "source": [
        "#### Task 5 - test code\n",
        "You may test your `update_theta` function with the code below. If everything is OK, the output will be:<br>\n",
        "**theta0 seems to be OK.**<br>\n",
        "**theta1 seems to be OK.**<br>"
      ]
    },
    {
      "cell_type": "code",
      "metadata": {
        "id": "muJ8MjYo28El",
        "colab_type": "code",
        "colab": {
          "base_uri": "https://localhost:8080/",
          "height": 50
        },
        "outputId": "b7c9683d-e6ef-4ae0-801b-b760dc78e5d0"
      },
      "source": [
        "hlp.testupdatetheta(update_theta)"
      ],
      "execution_count": 16,
      "outputs": [
        {
          "output_type": "stream",
          "text": [
            "theta0 seems to be OK.\n",
            "theta1 seems to be OK.\n"
          ],
          "name": "stdout"
        }
      ]
    },
    {
      "cell_type": "markdown",
      "metadata": {
        "id": "D-4_snuu28Ep",
        "colab_type": "text"
      },
      "source": [
        "### Task 7 - learning parameters\n",
        "Tune the learning parameters and run the code below. This code will perform entire machine learning, using the functions you prepared in previous tasks.<br>\n",
        "The parameters are as follows:\n",
        "<ul>\n",
        "    <li>learning_rate - $\\alpha$ - learning coefficient. The greater $\\alpha$ the larger change of $\\Theta$ values in each iteration.\n",
        "    <li>epochs - how many times we should repeat the iterations\n",
        "</ul>\n",
        "<br \\><br \\>\n",
        "Additional parameter:\n",
        "<ul>\n",
        "<li>display_every - how often should we display the $\\Theta$ and cost values. This parameter does not play any role in learning process, it is only for observations. The value <code> display_every = int(epochs / 20) </code> is reasonable, but you may change it if you wish.\n",
        "</ul>\n",
        "    \n",
        "    \n",
        "*Note: The results for this part may differ because they depend on your parameters. To pass you need to push your cost below 15000. The optimal results are:*<br>\n",
        "<li>$\\Theta_0$ = 352.40171716\n",
        "<li>$\\Theta_1$ = -17.49921637\n",
        "<li>$J(\\Theta_0, \\Theta_1)$ = 14725.144411377056\n",
        "    \n",
        "**WARNING: It is almost impossible to get the optimal parameters with this algorithm. If your cost $J(\\Theta_0, \\Theta_1)$ is below 14800 it means you did very well. If your cost is below 14730 you are perfect :)**\n",
        "    \n",
        "    "
      ]
    },
    {
      "cell_type": "code",
      "metadata": {
        "id": "8ckc5cxZ28Eq",
        "colab_type": "code",
        "colab": {
          "base_uri": "https://localhost:8080/",
          "height": 636
        },
        "outputId": "2c100981-3812-472e-e5da-a132986e9c30"
      },
      "source": [
        "learning_rate = 0.00082 # ENTER YOUR CODE HERE (Tune this parameter)\n",
        "epochs = 50000 # ENTER YOUR CODE HERE (Tune this parameter)\n",
        "\n",
        "display_every = int(epochs / 20)\n",
        "\n",
        "th0 = 0 #The initial th0 value\n",
        "th1 = 0 #The initial th1 value\n",
        "\n",
        "cost_list = [] # we will use this list to plot the cost function chart\n",
        "iter_list = [] # we will use this list to plot the cost function chart\n",
        "\n",
        "for i in range(epochs):\n",
        "    #Learning process. With your functions the entire learning code is only 2 lines\n",
        "    del0, del1 = compute_derivatives(x, y, th0, th1)\n",
        "    th0, th1 = update_theta(th0, th1, del0, del1, learning_rate)\n",
        "    \n",
        "    #This code is used only for displaying results. You do not need to understand it\n",
        "    if ((i%display_every) == 0) | (i == epochs-1):\n",
        "        curr_cost = cost(y, compute_h(x, th0, th1))\n",
        "        cost_list.append(curr_cost)\n",
        "        iter_list.append(i)\n",
        "        print('Iteration {}, Theta 0: {:.2f}, Theta 1: {:.2f}, Cost: {:.2f}'\n",
        "              .format(i, th0, th1, curr_cost))\n",
        "\n",
        "        \n",
        "#This code is used only for displaying results. You do not need to understand it\n",
        "f = plt.figure()\n",
        "plt.plot(iter_list, cost_list)\n",
        "plt.title(\"Cost function\")\n",
        "plt.xlabel('Iteration')\n",
        "plt.ylabel('Cost');"
      ],
      "execution_count": 17,
      "outputs": [
        {
          "output_type": "stream",
          "text": [
            "Iteration 0, Theta 0: -0.28, Theta 1: -18.63, Cost: 93944.05\n",
            "Iteration 2500, Theta 0: 143.24, Theta 1: -13.55, Cost: 20296.87\n",
            "Iteration 5000, Theta 0: 228.30, Theta 1: -15.16, Cost: 16686.49\n",
            "Iteration 7500, Theta 0: 278.77, Theta 1: -16.11, Cost: 15415.57\n",
            "Iteration 10000, Theta 0: 308.72, Theta 1: -16.67, Cost: 14968.19\n",
            "Iteration 12500, Theta 0: 326.48, Theta 1: -17.01, Cost: 14810.70\n",
            "Iteration 15000, Theta 0: 337.02, Theta 1: -17.21, Cost: 14755.26\n",
            "Iteration 17500, Theta 0: 343.28, Theta 1: -17.33, Cost: 14735.75\n",
            "Iteration 20000, Theta 0: 346.99, Theta 1: -17.40, Cost: 14728.88\n",
            "Iteration 22500, Theta 0: 349.19, Theta 1: -17.44, Cost: 14726.46\n",
            "Iteration 25000, Theta 0: 350.50, Theta 1: -17.46, Cost: 14725.61\n",
            "Iteration 27500, Theta 0: 351.27, Theta 1: -17.48, Cost: 14725.31\n",
            "Iteration 30000, Theta 0: 351.73, Theta 1: -17.49, Cost: 14725.20\n",
            "Iteration 32500, Theta 0: 352.00, Theta 1: -17.49, Cost: 14725.16\n",
            "Iteration 35000, Theta 0: 352.17, Theta 1: -17.49, Cost: 14725.15\n",
            "Iteration 37500, Theta 0: 352.26, Theta 1: -17.50, Cost: 14725.15\n",
            "Iteration 40000, Theta 0: 352.32, Theta 1: -17.50, Cost: 14725.15\n",
            "Iteration 42500, Theta 0: 352.35, Theta 1: -17.50, Cost: 14725.14\n",
            "Iteration 45000, Theta 0: 352.37, Theta 1: -17.50, Cost: 14725.14\n",
            "Iteration 47500, Theta 0: 352.38, Theta 1: -17.50, Cost: 14725.14\n",
            "Iteration 49999, Theta 0: 352.39, Theta 1: -17.50, Cost: 14725.14\n"
          ],
          "name": "stdout"
        },
        {
          "output_type": "display_data",
          "data": {
            "image/png": "[encoded data removed]",
            "text/plain": [
              "<Figure size 432x288 with 1 Axes>"
            ]
          },
          "metadata": {
            "tags": [],
            "needs_background": "light"
          }
        }
      ]
    },
    {
      "cell_type": "markdown",
      "metadata": {
        "id": "YeOFRlog28Es",
        "colab_type": "text"
      },
      "source": [
        "You may use the code below to present your results on the chart"
      ]
    },
    {
      "cell_type": "code",
      "metadata": {
        "id": "8jaHCVVN28Et",
        "colab_type": "code",
        "colab": {
          "base_uri": "https://localhost:8080/",
          "height": 360
        },
        "outputId": "582c8c55-db69-490a-eb5f-eb5eb985d273"
      },
      "source": [
        "print('\\nYour results:')\n",
        "print ('h(x) = {:.2f} + x*{:.2f}'.format(th0, th1))\n",
        "print('Cost = {:.2f}'.format(cost(y, compute_h(x, th0, th1))))\n",
        "\n",
        "hlp.plot_fitting_lin(x, y, th0, th1);"
      ],
      "execution_count": 18,
      "outputs": [
        {
          "output_type": "stream",
          "text": [
            "\n",
            "Your results:\n",
            "h(x) = 352.39 + x*-17.50\n",
            "Cost = 14725.14\n"
          ],
          "name": "stdout"
        },
        {
          "output_type": "display_data",
          "data": {
            "image/png": "[encoded data removed]",
            "text/plain": [
              "<Figure size 432x288 with 1 Axes>"
            ]
          },
          "metadata": {
            "tags": [],
            "needs_background": "light"
          }
        }
      ]
    },
    {
      "cell_type": "markdown",
      "metadata": {
        "id": "ZEK3Pmx428E0",
        "colab_type": "text"
      },
      "source": [
        "### Question 1\n",
        "Compare the 'manual' results with the 'gradient descent' results using the code below. Which results are better:"
      ]
    },
    {
      "cell_type": "code",
      "metadata": {
        "id": "vJwcyrmm28E0",
        "colab_type": "code",
        "colab": {
          "base_uri": "https://localhost:8080/",
          "height": 163
        },
        "outputId": "31b19d55-fa60-4e10-f9f4-576db589c616"
      },
      "source": [
        "print('The gradient descent results:')\n",
        "print ('h(x) = {:.2f} + x*{:.2f}'.format(th0, th1))\n",
        "print('Cost = {:.2f}'.format(cost(y, compute_h(x, th0, th1))))\n",
        "\n",
        "print('\\nThe manual results:')\n",
        "print ('h(x) = {:.2f} + x*{:.2f}'.format(my_th0, my_th1))\n",
        "print('Cost = {:.2f}'.format(cost(y, compute_h(x, my_th0, my_th1))))\n",
        "print('\\n')\n"
      ],
      "execution_count": 19,
      "outputs": [
        {
          "output_type": "stream",
          "text": [
            "The gradient descent results:\n",
            "h(x) = 352.39 + x*-17.50\n",
            "Cost = 14725.14\n",
            "\n",
            "The manual results:\n",
            "h(x) = 400.00 + x*-20.00\n",
            "Cost = 17702.43\n",
            "\n",
            "\n"
          ],
          "name": "stdout"
        }
      ]
    },
    {
      "cell_type": "markdown",
      "metadata": {
        "collapsed": true,
        "id": "tQP5_jRn28E2",
        "colab_type": "text"
      },
      "source": [
        "**ENTER YOUR ANSWER HERE:**\n",
        "\n"
      ]
    },
    {
      "cell_type": "code",
      "metadata": {
        "id": "znHwPeZo28E3",
        "colab_type": "code",
        "colab": {}
      },
      "source": [
        ""
      ],
      "execution_count": null,
      "outputs": []
    }
  ]
}